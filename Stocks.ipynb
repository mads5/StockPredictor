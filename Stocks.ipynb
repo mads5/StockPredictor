{
  "nbformat": 4,
  "nbformat_minor": 0,
  "metadata": {
    "colab": {
      "name": "Stocks.ipynb",
      "provenance": [],
      "collapsed_sections": [],
      "include_colab_link": true
    },
    "kernelspec": {
      "name": "python3",
      "display_name": "Python 3"
    }
  },
  "cells": [
    {
      "cell_type": "markdown",
      "metadata": {
        "id": "view-in-github",
        "colab_type": "text"
      },
      "source": [
        "<a href=\"https://colab.research.google.com/github/mads5/StockPredictor/blob/main/Stocks.ipynb\" target=\"_parent\"><img src=\"https://colab.research.google.com/assets/colab-badge.svg\" alt=\"Open In Colab\"/></a>"
      ]
    },
    {
      "cell_type": "code",
      "metadata": {
        "id": "BvMS84dsPU_d",
        "colab": {
          "base_uri": "https://localhost:8080/",
          "height": 34
        },
        "outputId": "9083b027-91bb-4351-d499-cd8e578d05c6"
      },
      "source": [
        "import pandas_datareader as web\n",
        "import math\n",
        "import numpy as np\n",
        "import pandas as pd\n",
        "from sklearn.preprocessing import MinMaxScaler\n",
        "from keras.models import Sequential\n",
        "from keras.layers import Dense, LSTM\n",
        "import matplotlib.pyplot as plt\n",
        "from datetime import date\n",
        "plt.style.use('fivethirtyeight')\n",
        "days = 90\n",
        "stock = 'IRCTC.NS'\n",
        "end = date.today()\n",
        "start = '1993-01-01'\n",
        "data_source='yahoo'\n",
        "print(end)"
      ],
      "execution_count": null,
      "outputs": [
        {
          "output_type": "stream",
          "text": [
            "2020-07-22\n"
          ],
          "name": "stdout"
        }
      ]
    },
    {
      "cell_type": "code",
      "metadata": {
        "id": "P3SC2kIYTj3B",
        "colab": {
          "base_uri": "https://localhost:8080/",
          "height": 431
        },
        "outputId": "d22de4c3-85a7-4f47-83c3-37236518bb15"
      },
      "source": [
        "#Get the stock data\n",
        "df = web.DataReader(stock, data_source, start, end)\n",
        "#Show the data\n",
        "df"
      ],
      "execution_count": null,
      "outputs": [
        {
          "output_type": "execute_result",
          "data": {
            "text/html": [
              "<div>\n",
              "<style scoped>\n",
              "    .dataframe tbody tr th:only-of-type {\n",
              "        vertical-align: middle;\n",
              "    }\n",
              "\n",
              "    .dataframe tbody tr th {\n",
              "        vertical-align: top;\n",
              "    }\n",
              "\n",
              "    .dataframe thead th {\n",
              "        text-align: right;\n",
              "    }\n",
              "</style>\n",
              "<table border=\"1\" class=\"dataframe\">\n",
              "  <thead>\n",
              "    <tr style=\"text-align: right;\">\n",
              "      <th></th>\n",
              "      <th>High</th>\n",
              "      <th>Low</th>\n",
              "      <th>Open</th>\n",
              "      <th>Close</th>\n",
              "      <th>Volume</th>\n",
              "      <th>Adj Close</th>\n",
              "    </tr>\n",
              "    <tr>\n",
              "      <th>Date</th>\n",
              "      <th></th>\n",
              "      <th></th>\n",
              "      <th></th>\n",
              "      <th></th>\n",
              "      <th></th>\n",
              "      <th></th>\n",
              "    </tr>\n",
              "  </thead>\n",
              "  <tbody>\n",
              "    <tr>\n",
              "      <th>2019-10-14</th>\n",
              "      <td>743.799988</td>\n",
              "      <td>625.000000</td>\n",
              "      <td>626.000000</td>\n",
              "      <td>727.750000</td>\n",
              "      <td>45270607.0</td>\n",
              "      <td>723.979370</td>\n",
              "    </tr>\n",
              "    <tr>\n",
              "      <th>2019-10-15</th>\n",
              "      <td>747.400024</td>\n",
              "      <td>696.049988</td>\n",
              "      <td>736.000000</td>\n",
              "      <td>713.150024</td>\n",
              "      <td>10530041.0</td>\n",
              "      <td>709.455078</td>\n",
              "    </tr>\n",
              "    <tr>\n",
              "      <th>2019-10-16</th>\n",
              "      <td>721.000000</td>\n",
              "      <td>698.250000</td>\n",
              "      <td>714.000000</td>\n",
              "      <td>700.650024</td>\n",
              "      <td>3476306.0</td>\n",
              "      <td>697.019836</td>\n",
              "    </tr>\n",
              "    <tr>\n",
              "      <th>2019-10-17</th>\n",
              "      <td>733.000000</td>\n",
              "      <td>687.150024</td>\n",
              "      <td>700.099976</td>\n",
              "      <td>724.299988</td>\n",
              "      <td>5032930.0</td>\n",
              "      <td>720.547241</td>\n",
              "    </tr>\n",
              "    <tr>\n",
              "      <th>2019-10-18</th>\n",
              "      <td>789.900024</td>\n",
              "      <td>716.049988</td>\n",
              "      <td>725.000000</td>\n",
              "      <td>779.150024</td>\n",
              "      <td>9733230.0</td>\n",
              "      <td>775.113098</td>\n",
              "    </tr>\n",
              "    <tr>\n",
              "      <th>...</th>\n",
              "      <td>...</td>\n",
              "      <td>...</td>\n",
              "      <td>...</td>\n",
              "      <td>...</td>\n",
              "      <td>...</td>\n",
              "      <td>...</td>\n",
              "    </tr>\n",
              "    <tr>\n",
              "      <th>2020-07-16</th>\n",
              "      <td>1379.000000</td>\n",
              "      <td>1335.000000</td>\n",
              "      <td>1355.000000</td>\n",
              "      <td>1364.199951</td>\n",
              "      <td>528359.0</td>\n",
              "      <td>1364.199951</td>\n",
              "    </tr>\n",
              "    <tr>\n",
              "      <th>2020-07-17</th>\n",
              "      <td>1400.000000</td>\n",
              "      <td>1366.699951</td>\n",
              "      <td>1374.000000</td>\n",
              "      <td>1370.949951</td>\n",
              "      <td>807342.0</td>\n",
              "      <td>1370.949951</td>\n",
              "    </tr>\n",
              "    <tr>\n",
              "      <th>2020-07-20</th>\n",
              "      <td>1389.000000</td>\n",
              "      <td>1371.000000</td>\n",
              "      <td>1380.000000</td>\n",
              "      <td>1376.449951</td>\n",
              "      <td>505154.0</td>\n",
              "      <td>1376.449951</td>\n",
              "    </tr>\n",
              "    <tr>\n",
              "      <th>2020-07-21</th>\n",
              "      <td>1412.199951</td>\n",
              "      <td>1376.449951</td>\n",
              "      <td>1381.500000</td>\n",
              "      <td>1390.199951</td>\n",
              "      <td>1155149.0</td>\n",
              "      <td>1390.199951</td>\n",
              "    </tr>\n",
              "    <tr>\n",
              "      <th>2020-07-22</th>\n",
              "      <td>1398.699951</td>\n",
              "      <td>1370.000000</td>\n",
              "      <td>1395.000000</td>\n",
              "      <td>1372.949951</td>\n",
              "      <td>457799.0</td>\n",
              "      <td>1372.949951</td>\n",
              "    </tr>\n",
              "  </tbody>\n",
              "</table>\n",
              "<p>191 rows × 6 columns</p>\n",
              "</div>"
            ],
            "text/plain": [
              "                   High          Low  ...      Volume    Adj Close\n",
              "Date                                  ...                         \n",
              "2019-10-14   743.799988   625.000000  ...  45270607.0   723.979370\n",
              "2019-10-15   747.400024   696.049988  ...  10530041.0   709.455078\n",
              "2019-10-16   721.000000   698.250000  ...   3476306.0   697.019836\n",
              "2019-10-17   733.000000   687.150024  ...   5032930.0   720.547241\n",
              "2019-10-18   789.900024   716.049988  ...   9733230.0   775.113098\n",
              "...                 ...          ...  ...         ...          ...\n",
              "2020-07-16  1379.000000  1335.000000  ...    528359.0  1364.199951\n",
              "2020-07-17  1400.000000  1366.699951  ...    807342.0  1370.949951\n",
              "2020-07-20  1389.000000  1371.000000  ...    505154.0  1376.449951\n",
              "2020-07-21  1412.199951  1376.449951  ...   1155149.0  1390.199951\n",
              "2020-07-22  1398.699951  1370.000000  ...    457799.0  1372.949951\n",
              "\n",
              "[191 rows x 6 columns]"
            ]
          },
          "metadata": {
            "tags": []
          },
          "execution_count": 134
        }
      ]
    },
    {
      "cell_type": "code",
      "metadata": {
        "id": "MHeu6gXCaqTE",
        "colab": {
          "base_uri": "https://localhost:8080/",
          "height": 34
        },
        "outputId": "b6807a52-3e9f-428b-b643-57b047b21733"
      },
      "source": [
        "#Get the number of rows and columns in data set\n",
        "df.shape"
      ],
      "execution_count": null,
      "outputs": [
        {
          "output_type": "execute_result",
          "data": {
            "text/plain": [
              "(191, 6)"
            ]
          },
          "metadata": {
            "tags": []
          },
          "execution_count": 135
        }
      ]
    },
    {
      "cell_type": "code",
      "metadata": {
        "id": "y330nWTTaz7B",
        "colab": {
          "base_uri": "https://localhost:8080/",
          "height": 558
        },
        "outputId": "b22e1ab4-17b2-4b83-b418-bf11390c83ee"
      },
      "source": [
        "#Visualizing the closing price history\n",
        "plt.figure(figsize=(16,8))\n",
        "plt.title('Close Price History')\n",
        "plt.plot(df['Close'])\n",
        "plt.xlabel('Date', fontsize=18)\n",
        "plt.ylabel('Close Price (Rs.)', fontsize=18)\n",
        "plt.show()"
      ],
      "execution_count": null,
      "outputs": [
        {
          "output_type": "display_data",
          "data": {
            "image/png": "[encoded data removed]",
            "text/plain": [
              "<Figure size 1152x576 with 1 Axes>"
            ]
          },
          "metadata": {
            "tags": []
          }
        }
      ]
    },
    {
      "cell_type": "code",
      "metadata": {
        "id": "WQCT63ABcIzY",
        "colab": {
          "base_uri": "https://localhost:8080/",
          "height": 34
        },
        "outputId": "f8f9fcc4-86f5-497f-9ed3-06bf12b31dc3"
      },
      "source": [
        "#Create a new dataframe with only the 'Close' column\n",
        "data = df.filter(['Close'])\n",
        "#convert the dataframe to a numpy array\n",
        "dataset = data.values\n",
        "#Get the number of rows to train the model on\n",
        "training_data_len = math.ceil(len(dataset) * .8)\n",
        "\n",
        "training_data_len"
      ],
      "execution_count": null,
      "outputs": [
        {
          "output_type": "execute_result",
          "data": {
            "text/plain": [
              "153"
            ]
          },
          "metadata": {
            "tags": []
          },
          "execution_count": 137
        }
      ]
    },
    {
      "cell_type": "code",
      "metadata": {
        "id": "AQvY_LENfi8c",
        "colab": {
          "base_uri": "https://localhost:8080/",
          "height": 1000
        },
        "outputId": "e4984207-a8a9-453c-a363-e1a5a6757ef8"
      },
      "source": [
        "#Scale the data\n",
        "scaler = MinMaxScaler(feature_range=(0,1))\n",
        "scaled_data = scaler.fit_transform(dataset)\n",
        "\n",
        "scaled_data"
      ],
      "execution_count": null,
      "outputs": [
        {
          "output_type": "execute_result",
          "data": {
            "text/plain": [
              "array([[0.02165746],\n",
              "       [0.00998961],\n",
              "       [0.        ],\n",
              "       [0.01890032],\n",
              "       [0.06273476],\n",
              "       [0.11512027],\n",
              "       [0.15955404],\n",
              "       [0.16095259],\n",
              "       [0.15855508],\n",
              "       [0.14580833],\n",
              "       [0.15168225],\n",
              "       [0.14468952],\n",
              "       [0.1517222 ],\n",
              "       [0.14608807],\n",
              "       [0.14452968],\n",
              "       [0.14676734],\n",
              "       [0.14452968],\n",
              "       [0.14085352],\n",
              "       [0.18560698],\n",
              "       [0.18492766],\n",
              "       [0.16514823],\n",
              "       [0.18185088],\n",
              "       [0.17701591],\n",
              "       [0.16135217],\n",
              "       [0.15587789],\n",
              "       [0.14716693],\n",
              "       [0.14005435],\n",
              "       [0.14504916],\n",
              "       [0.14229201],\n",
              "       [0.14592822],\n",
              "       [0.1452889 ],\n",
              "       [0.15711659],\n",
              "       [0.14417004],\n",
              "       [0.13933508],\n",
              "       [0.13861581],\n",
              "       [0.1400943 ],\n",
              "       [0.13721726],\n",
              "       [0.13326142],\n",
              "       [0.12806682],\n",
              "       [0.1310637 ],\n",
              "       [0.13525934],\n",
              "       [0.1517222 ],\n",
              "       [0.14868537],\n",
              "       [0.14872531],\n",
              "       [0.13961477],\n",
              "       [0.13509949],\n",
              "       [0.13282183],\n",
              "       [0.1311436 ],\n",
              "       [0.14936464],\n",
              "       [0.14085352],\n",
              "       [0.14381041],\n",
              "       [0.18021259],\n",
              "       [0.18604651],\n",
              "       [0.19475742],\n",
              "       [0.18360906],\n",
              "       [0.18440823],\n",
              "       [0.15487893],\n",
              "       [0.16522817],\n",
              "       [0.15623752],\n",
              "       [0.17022298],\n",
              "       [0.17309997],\n",
              "       [0.19060179],\n",
              "       [0.2185727 ],\n",
              "       [0.22756335],\n",
              "       [0.24214818],\n",
              "       [0.25669302],\n",
              "       [0.2339167 ],\n",
              "       [0.22544553],\n",
              "       [0.23671379],\n",
              "       [0.23563493],\n",
              "       [0.24138896],\n",
              "       [0.24530486],\n",
              "       [0.27815068],\n",
              "       [0.33225447],\n",
              "       [0.34883723],\n",
              "       [0.40729646],\n",
              "       [0.4397027 ],\n",
              "       [0.56900826],\n",
              "       [0.64564858],\n",
              "       [0.64225211],\n",
              "       [0.64960443],\n",
              "       [0.62299207],\n",
              "       [0.56529211],\n",
              "       [0.57108608],\n",
              "       [0.70302885],\n",
              "       [0.68468796],\n",
              "       [0.65372017],\n",
              "       [0.74958044],\n",
              "       [0.90405983],\n",
              "       [0.98249828],\n",
              "       [0.97726368],\n",
              "       [1.        ],\n",
              "       [0.99976031],\n",
              "       [0.96599542],\n",
              "       [0.83365307],\n",
              "       [0.81723011],\n",
              "       [0.83005681],\n",
              "       [0.69108132],\n",
              "       [0.5835531 ],\n",
              "       [0.52641252],\n",
              "       [0.47210903],\n",
              "       [0.46727402],\n",
              "       [0.41592742],\n",
              "       [0.42124191],\n",
              "       [0.37221292],\n",
              "       [0.32562133],\n",
              "       [0.28134736],\n",
              "       [0.23931109],\n",
              "       [0.20007192],\n",
              "       [0.16207145],\n",
              "       [0.12598895],\n",
              "       [0.09170463],\n",
              "       [0.12427077],\n",
              "       [0.15847519],\n",
              "       [0.18792454],\n",
              "       [0.22528569],\n",
              "       [0.26452491],\n",
              "       [0.30572201],\n",
              "       [0.34899702],\n",
              "       [0.39442976],\n",
              "       [0.4421402 ],\n",
              "       [0.47162955],\n",
              "       [0.42347963],\n",
              "       [0.47262851],\n",
              "       [0.52425481],\n",
              "       [0.5784384 ],\n",
              "       [0.60852713],\n",
              "       [0.58643009],\n",
              "       [0.53600255],\n",
              "       [0.48121958],\n",
              "       [0.45312877],\n",
              "       [0.50167828],\n",
              "       [0.49416608],\n",
              "       [0.49844161],\n",
              "       [0.46487652],\n",
              "       [0.44861345],\n",
              "       [0.41201147],\n",
              "       [0.41069292],\n",
              "       [0.43223049],\n",
              "       [0.48181896],\n",
              "       [0.53388473],\n",
              "       [0.58854791],\n",
              "       [0.5502677 ],\n",
              "       [0.50303683],\n",
              "       [0.4498921 ],\n",
              "       [0.4549269 ],\n",
              "       [0.50563413],\n",
              "       [0.55889876],\n",
              "       [0.57703985],\n",
              "       [0.54111725],\n",
              "       [0.55230561],\n",
              "       [0.54395434],\n",
              "       [0.56717014],\n",
              "       [0.57148567],\n",
              "       [0.56677055],\n",
              "       [0.55294499],\n",
              "       [0.58403258],\n",
              "       [0.60381201],\n",
              "       [0.66450895],\n",
              "       [0.63354115],\n",
              "       [0.60249346],\n",
              "       [0.58555102],\n",
              "       [0.57907777],\n",
              "       [0.57747944],\n",
              "       [0.56772961],\n",
              "       [0.55498281],\n",
              "       [0.56657076],\n",
              "       [0.57803881],\n",
              "       [0.57200515],\n",
              "       [0.59949658],\n",
              "       [0.57568131],\n",
              "       [0.56876848],\n",
              "       [0.54471351],\n",
              "       [0.52361543],\n",
              "       [0.52585314],\n",
              "       [0.52936951],\n",
              "       [0.56876848],\n",
              "       [0.5629745 ],\n",
              "       [0.55949814],\n",
              "       [0.55682094],\n",
              "       [0.55098697],\n",
              "       [0.54695122],\n",
              "       [0.55965793],\n",
              "       [0.55678094],\n",
              "       [0.52865023],\n",
              "       [0.52049865],\n",
              "       [0.53028847],\n",
              "       [0.53568286],\n",
              "       [0.54007829],\n",
              "       [0.55106686],\n",
              "       [0.5372812 ]])"
            ]
          },
          "metadata": {
            "tags": []
          },
          "execution_count": 138
        }
      ]
    },
    {
      "cell_type": "code",
      "metadata": {
        "id": "Lx5_mLNSghHX",
        "colab": {
          "base_uri": "https://localhost:8080/",
          "height": 974
        },
        "outputId": "4b353ea5-9348-492b-b56a-a874edf734c7"
      },
      "source": [
        "#Create the training dataset\n",
        "#Create the scaled training dataset\n",
        "train_data = scaled_data[0:training_data_len, :]\n",
        "#Split the data into x_train and y_train dataset\n",
        "x_train = []\n",
        "y_train = []\n",
        "\n",
        "for i in range(days, len(train_data)):\n",
        "  x_train.append(train_data[i-days:i, 0])\n",
        "  y_train.append(train_data[i, 0])\n",
        "  if i <= days+1:\n",
        "    print(x_train)\n",
        "    print(y_train)\n",
        "    print()"
      ],
      "execution_count": null,
      "outputs": [
        {
          "output_type": "stream",
          "text": [
            "[array([0.02165746, 0.00998961, 0.        , 0.01890032, 0.06273476,\n",
            "       0.11512027, 0.15955404, 0.16095259, 0.15855508, 0.14580833,\n",
            "       0.15168225, 0.14468952, 0.1517222 , 0.14608807, 0.14452968,\n",
            "       0.14676734, 0.14452968, 0.14085352, 0.18560698, 0.18492766,\n",
            "       0.16514823, 0.18185088, 0.17701591, 0.16135217, 0.15587789,\n",
            "       0.14716693, 0.14005435, 0.14504916, 0.14229201, 0.14592822,\n",
            "       0.1452889 , 0.15711659, 0.14417004, 0.13933508, 0.13861581,\n",
            "       0.1400943 , 0.13721726, 0.13326142, 0.12806682, 0.1310637 ,\n",
            "       0.13525934, 0.1517222 , 0.14868537, 0.14872531, 0.13961477,\n",
            "       0.13509949, 0.13282183, 0.1311436 , 0.14936464, 0.14085352,\n",
            "       0.14381041, 0.18021259, 0.18604651, 0.19475742, 0.18360906,\n",
            "       0.18440823, 0.15487893, 0.16522817, 0.15623752, 0.17022298,\n",
            "       0.17309997, 0.19060179, 0.2185727 , 0.22756335, 0.24214818,\n",
            "       0.25669302, 0.2339167 , 0.22544553, 0.23671379, 0.23563493,\n",
            "       0.24138896, 0.24530486, 0.27815068, 0.33225447, 0.34883723,\n",
            "       0.40729646, 0.4397027 , 0.56900826, 0.64564858, 0.64225211,\n",
            "       0.64960443, 0.62299207, 0.56529211, 0.57108608, 0.70302885,\n",
            "       0.68468796, 0.65372017, 0.74958044, 0.90405983, 0.98249828])]\n",
            "[0.9772636834994545]\n",
            "\n",
            "[array([0.02165746, 0.00998961, 0.        , 0.01890032, 0.06273476,\n",
            "       0.11512027, 0.15955404, 0.16095259, 0.15855508, 0.14580833,\n",
            "       0.15168225, 0.14468952, 0.1517222 , 0.14608807, 0.14452968,\n",
            "       0.14676734, 0.14452968, 0.14085352, 0.18560698, 0.18492766,\n",
            "       0.16514823, 0.18185088, 0.17701591, 0.16135217, 0.15587789,\n",
            "       0.14716693, 0.14005435, 0.14504916, 0.14229201, 0.14592822,\n",
            "       0.1452889 , 0.15711659, 0.14417004, 0.13933508, 0.13861581,\n",
            "       0.1400943 , 0.13721726, 0.13326142, 0.12806682, 0.1310637 ,\n",
            "       0.13525934, 0.1517222 , 0.14868537, 0.14872531, 0.13961477,\n",
            "       0.13509949, 0.13282183, 0.1311436 , 0.14936464, 0.14085352,\n",
            "       0.14381041, 0.18021259, 0.18604651, 0.19475742, 0.18360906,\n",
            "       0.18440823, 0.15487893, 0.16522817, 0.15623752, 0.17022298,\n",
            "       0.17309997, 0.19060179, 0.2185727 , 0.22756335, 0.24214818,\n",
            "       0.25669302, 0.2339167 , 0.22544553, 0.23671379, 0.23563493,\n",
            "       0.24138896, 0.24530486, 0.27815068, 0.33225447, 0.34883723,\n",
            "       0.40729646, 0.4397027 , 0.56900826, 0.64564858, 0.64225211,\n",
            "       0.64960443, 0.62299207, 0.56529211, 0.57108608, 0.70302885,\n",
            "       0.68468796, 0.65372017, 0.74958044, 0.90405983, 0.98249828]), array([0.00998961, 0.        , 0.01890032, 0.06273476, 0.11512027,\n",
            "       0.15955404, 0.16095259, 0.15855508, 0.14580833, 0.15168225,\n",
            "       0.14468952, 0.1517222 , 0.14608807, 0.14452968, 0.14676734,\n",
            "       0.14452968, 0.14085352, 0.18560698, 0.18492766, 0.16514823,\n",
            "       0.18185088, 0.17701591, 0.16135217, 0.15587789, 0.14716693,\n",
            "       0.14005435, 0.14504916, 0.14229201, 0.14592822, 0.1452889 ,\n",
            "       0.15711659, 0.14417004, 0.13933508, 0.13861581, 0.1400943 ,\n",
            "       0.13721726, 0.13326142, 0.12806682, 0.1310637 , 0.13525934,\n",
            "       0.1517222 , 0.14868537, 0.14872531, 0.13961477, 0.13509949,\n",
            "       0.13282183, 0.1311436 , 0.14936464, 0.14085352, 0.14381041,\n",
            "       0.18021259, 0.18604651, 0.19475742, 0.18360906, 0.18440823,\n",
            "       0.15487893, 0.16522817, 0.15623752, 0.17022298, 0.17309997,\n",
            "       0.19060179, 0.2185727 , 0.22756335, 0.24214818, 0.25669302,\n",
            "       0.2339167 , 0.22544553, 0.23671379, 0.23563493, 0.24138896,\n",
            "       0.24530486, 0.27815068, 0.33225447, 0.34883723, 0.40729646,\n",
            "       0.4397027 , 0.56900826, 0.64564858, 0.64225211, 0.64960443,\n",
            "       0.62299207, 0.56529211, 0.57108608, 0.70302885, 0.68468796,\n",
            "       0.65372017, 0.74958044, 0.90405983, 0.98249828, 0.97726368])]\n",
            "[0.9772636834994545, 1.0]\n",
            "\n"
          ],
          "name": "stdout"
        }
      ]
    },
    {
      "cell_type": "code",
      "metadata": {
        "id": "9V32vCUZiBRg"
      },
      "source": [
        "#Convert x_trtain and y_train dataset to numpy arrays\n",
        "x_train, y_train = np.array(x_train), np.array(y_train)"
      ],
      "execution_count": null,
      "outputs": []
    },
    {
      "cell_type": "code",
      "metadata": {
        "id": "d3qLB9tpiwA-",
        "colab": {
          "base_uri": "https://localhost:8080/",
          "height": 34
        },
        "outputId": "381562bf-e4d4-443e-aba7-4cf68da95723"
      },
      "source": [
        "#Reshape the data\n",
        "x_train = np.reshape(x_train, (x_train.shape[0], x_train.shape[1], 1))\n",
        "x_train.shape"
      ],
      "execution_count": null,
      "outputs": [
        {
          "output_type": "execute_result",
          "data": {
            "text/plain": [
              "(63, 90, 1)"
            ]
          },
          "metadata": {
            "tags": []
          },
          "execution_count": 141
        }
      ]
    },
    {
      "cell_type": "code",
      "metadata": {
        "id": "xSqHAsIMi0sD"
      },
      "source": [
        "#Build the LSTM model\n",
        "model = Sequential()\n",
        "model.add(LSTM(50, return_sequences=True, input_shape=(x_train.shape[1], 1)))\n",
        "model.add(LSTM(50, return_sequences=False))\n",
        "model.add(Dense(25))\n",
        "model.add(Dense(1))\n"
      ],
      "execution_count": null,
      "outputs": []
    },
    {
      "cell_type": "code",
      "metadata": {
        "id": "iurNOLXUjw4n"
      },
      "source": [
        "#compile the model\n",
        "model.compile(optimizer='adam', loss='mean_squared_error')"
      ],
      "execution_count": null,
      "outputs": []
    },
    {
      "cell_type": "code",
      "metadata": {
        "id": "zlX9s6Sflos0"
      },
      "source": [
        "#train the model\n",
        "model.fit(x_train, y_train, batch_size=1, epochs=1)"
      ],
      "execution_count": null,
      "outputs": []
    },
    {
      "cell_type": "code",
      "metadata": {
        "id": "kN1IQbErl5mO"
      },
      "source": [
        "#Create the testing dataset\n",
        "#Create a new array containing scaled values from index 1576 to 2003\n",
        "test_data = scaled_data[training_data_len - days:, :]\n",
        "#create the datasets x_test and y_test\n",
        "x_test = []\n",
        "y_test = dataset[training_data_len:, :]\n",
        "\n",
        "for i in range(days, len(test_data)):\n",
        "  x_test.append(test_data[i-days:i, 0])"
      ],
      "execution_count": null,
      "outputs": []
    },
    {
      "cell_type": "code",
      "metadata": {
        "id": "25qBIpysnMu8"
      },
      "source": [
        "#Convert the data to numpy array\n",
        "x_test = np.array(x_test)"
      ],
      "execution_count": null,
      "outputs": []
    },
    {
      "cell_type": "code",
      "metadata": {
        "id": "NzB2zFYQnVA9"
      },
      "source": [
        "#reshape the data\n",
        "x_test = np.reshape(x_test, (x_test.shape[0], x_test.shape[1], 1))\n",
        "x_test.shape"
      ],
      "execution_count": null,
      "outputs": []
    },
    {
      "cell_type": "code",
      "metadata": {
        "id": "hZbzc9VCnjQc"
      },
      "source": [
        "#Get the model to predict values\n",
        "predictions = model.predict(x_test)\n",
        "predictions = scaler.inverse_transform(predictions)"
      ],
      "execution_count": null,
      "outputs": []
    },
    {
      "cell_type": "code",
      "metadata": {
        "id": "etleQdfboBvu"
      },
      "source": [
        "#Get the root mean squares error (RMSE)\n",
        "rmse = np.sqrt(np.mean(((predictions-y_test)**2)))\n",
        "rmse"
      ],
      "execution_count": null,
      "outputs": []
    },
    {
      "cell_type": "code",
      "metadata": {
        "id": "87b6B54poY-H"
      },
      "source": [
        "#plot the data\n",
        "train = data[:training_data_len]\n",
        "valid = data[training_data_len:]\n",
        "valid['Predictions'] = predictions\n",
        "#Visualizing the data\n",
        "plt.figure(figsize=(16,8))\n",
        "plt.title('Model')\n",
        "plt.xlabel('Date', fontsize=18)\n",
        "plt.ylabel('Close Price (Rs.)', fontsize=18)\n",
        "#plt.plot(train['Open'])\n",
        "plt.plot(train['Close'])\n",
        "plt.plot(valid[['Close', 'Predictions']])\n",
        "plt.legend(['Train', 'Val', 'Predictions'], loc='lower right')"
      ],
      "execution_count": null,
      "outputs": []
    },
    {
      "cell_type": "code",
      "metadata": {
        "id": "f1rhcNv_o8H4"
      },
      "source": [
        "#Show the valid and predicted prices\n",
        "valid"
      ],
      "execution_count": null,
      "outputs": []
    },
    {
      "cell_type": "code",
      "metadata": {
        "id": "U8M1boNpq7F2"
      },
      "source": [
        "#Get the quote\n",
        "vipind_quote = web.DataReader(stock, data_source, start, end)\n",
        "#Create a new dataframe\n",
        "new_df = vipind_quote.filter(['Close'])\n",
        "#Get teh last 60 day closing price \n",
        "last_60_days = new_df[-days:].values\n",
        "#Scale the data to be values between 0 and 1\n",
        "last_60_days_scaled = scaler.transform(last_60_days)\n",
        "#Create an empty list\n",
        "X_test = []\n",
        "#Append teh past 60 days\n",
        "X_test.append(last_60_days_scaled)\n",
        "#Convert the X_test data set to a numpy array\n",
        "X_test = np.array(X_test)\n",
        "#Reshape the data\n",
        "X_test = np.reshape(X_test, (X_test.shape[0], X_test.shape[1], 1))\n",
        "#Get the predicted scaled price\n",
        "pred_price = model.predict(X_test)\n",
        "#undo the scaling \n",
        "pred_price = scaler.inverse_transform(pred_price)\n",
        "print(pred_price)"
      ],
      "execution_count": null,
      "outputs": []
    },
    {
      "cell_type": "code",
      "metadata": {
        "id": "_j-K5QKb4V5R"
      },
      "source": [
        "#Get the quote\n",
        "apple_quote2 = web.DataReader(stock, data_source, start, end)\n",
        "print(apple_quote2['Close'])"
      ],
      "execution_count": null,
      "outputs": []
    }
  ]
}